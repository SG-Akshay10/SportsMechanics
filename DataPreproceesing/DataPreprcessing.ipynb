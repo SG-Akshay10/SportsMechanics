{
 "cells": [
  {
   "cell_type": "code",
   "execution_count": 128,
   "id": "087fc36d",
   "metadata": {},
   "outputs": [],
   "source": [
    "import requests\n",
    "import re\n",
    "from bs4 import BeautifulSoup\n",
    "import pandas as pd"
   ]
  },
  {
   "cell_type": "code",
   "execution_count": 129,
   "id": "9663f91f",
   "metadata": {},
   "outputs": [],
   "source": [
    "url = \"\"\"CLOSE OF PLAY\n",
    "Fri, 21 Aug - day 1 - England 1st innings 332/4 (Zak Crawley 171*, Jos Buttler 87*, 90 ov)\n",
    "Sat, 22 Aug - day 2 - Pakistan 1st innings 24/3 (Azhar Ali 4*, 10.5 ov)\n",
    "Sun, 23 Aug - day 3 - Pakistan 1st innings 273\n",
    "Mon, 24 Aug - day 4 - Pakistan 2nd innings 100/2 (Azhar Ali 29*, Babar Azam 4*, 56 ov)\n",
    "Tue, 25 Aug - day 5 - Pakistan - 2nd innings 187/4 in 83.1 overs - end of match\n",
    "MATCH FLOW\n",
    "Day 1\n",
    "England 1st innings\n",
    "Drinks: England - 48/1 in 13.0 overs (DP Sibley 15, Z Crawley 27)\n",
    "England: 50 runs in 14.2 overs (86 balls), Extras 0\n",
    "2nd Wicket: 50 runs in 67 balls (DP Sibley 15, Z Crawley 35, Ex 0)\n",
    "Over 18.2: Review by England (Batting), Umpire - MA Gough, Batsman - DP Sibley (Struck down)\n",
    "Lunch: England - 91/2 in 28.0 overs (Z Crawley 53, JE Root 10)\n",
    "Z Crawley: 50 off 80 balls (7 x 4)\n",
    "England: 100 runs in 31.2 overs (188 balls), Extras 0\n",
    "Drinks: England - 137/4 in 42.0 overs (Z Crawley 73, JC Buttler 4)\n",
    "England: 150 runs in 45.3 overs (273 balls), Extras 0\n",
    "Over 51.5: Review by Pakistan (Bowling), Umpire - RK Illingworth, Batsman - JC Buttler (Struck down)\n",
    "5th Wicket: 50 runs in 87 balls (Z Crawley 24, JC Buttler 23, Ex 3)\n",
    "Tea: England - 184/4 in 56.0 overs (Z Crawley 97, JC Buttler 24)\n",
    "Z Crawley: 100 off 171 balls (11 x 4)\n",
    "England: 200 runs in 61.6 overs (372 balls), Extras 3\n",
    "5th Wicket: 100 runs in 168 balls (Z Crawley 56, JC Buttler 43, Ex 3)\n",
    "JC Buttler: 50 off 85 balls (6 x 4, 2 x 6)\n",
    "England: 250 runs in 72.3 overs (435 balls), Extras 3\n",
    "Drinks: England - 259/4 in 74.0 overs (Z Crawley 143, JC Buttler 53)\n",
    "Z Crawley: 150 off 233 balls (17 x 4)\n",
    "5th Wicket: 150 runs in 238 balls (Z Crawley 86, JC Buttler 61, Ex 3)\n",
    "New ball taken 80.1 overs\n",
    "England: 300 runs in 80.2 overs (485 balls), Extras 10\n",
    "5th Wicket: 200 runs in 304 balls (Z Crawley 104, JC Buttler 84, Ex 14)\n",
    "End Of Day: England - 332/4 in 90.0 overs (Z Crawley 171, JC Buttler 87)\n",
    "Day 2\n",
    "Rain: England - 336/4 in 95.4 overs (Z Crawley 171, JC Buttler 91)\n",
    "Over 96.4: Review by Pakistan (Bowling), Umpire - MA Gough, Batsman - JC Buttler (Struck down)\n",
    "Rain: England - 336/4 in 98.0 overs (Z Crawley 171, JC Buttler 91)\n",
    "England: 350 runs in 101.1 overs (610 balls), Extras 14\n",
    "Over 101.5: Review by England (Batting), Umpire - RK Illingworth, Batsman - JC Buttler (Upheld)\n",
    "JC Buttler: 100 off 189 balls (10 x 4, 2 x 6)\n",
    "Lunch: England - 373/4 in 108.0 overs (Z Crawley 186, JC Buttler 113)\n",
    "5th Wicket: 250 runs in 421 balls (Z Crawley 123, JC Buttler 113, Ex 14)\n",
    "Z Crawley: 200 off 331 balls (25 x 4)\n",
    "England: 400 runs in 115.3 overs (696 balls), Extras 14\n",
    "5th Wicket: 300 runs in 489 balls (Z Crawley 160, JC Buttler 126, Ex 15)\n",
    "Drinks: England - 438/4 in 122.0 overs (Z Crawley 236, JC Buttler 127)\n",
    "England: 450 runs in 124.6 overs (753 balls), Extras 15\n",
    "Z Crawley: 250 off 372 balls (32 x 4, 1 x 6)\n",
    "5th Wicket: 350 runs in 551 balls (Z Crawley 196, JC Buttler 135, Ex 19)\n",
    "Tea: England - 490/5 in 136.0 overs (JC Buttler 140, CR Woakes 2)\n",
    "Over 136.4: Review by Pakistan (Bowling), Umpire - MA Gough, Batsman - JC Buttler (Struck down)\n",
    "England: 500 runs in 137.6 overs (831 balls), Extras 21\n",
    "JC Buttler: 150 off 307 balls (13 x 4, 2 x 6)\n",
    "Drinks: England - 541/6 in 147.2 overs (CR Woakes 36, DM Bess 4)\n",
    "England: 550 runs in 149.2 overs (900 balls), Extras 22\n",
    "Innings Break: England - 583/8 in 154.4 overs (DM Bess 27)\n",
    "Pakistan 1st innings\n",
    "Over 1.2: Review by Pakistan (Batting), Umpire - RK Illingworth, Batsman - Shan Masood (Upheld)\n",
    "Over 2.3: Review by Pakistan (Batting), Umpire - MA Gough, Batsman - Shan Masood (Struck down)\n",
    "Over 9.5: Review by England (Bowling), Umpire - RK Illingworth, Batsman - Azhar Ali (Struck down)\n",
    "End Of Day: Pakistan - 24/3 in 10.5 overs (Azhar Ali 4)\n",
    "Day 3\n",
    "Rain: Pakistan - 30/4 in 12.5 overs (Azhar Ali 5)\n",
    "Over 13.5: Review by England (Bowling), Umpire - RK Illingworth, Batsman - Azhar Ali (Struck down)\n",
    "Rain: Pakistan - 41/4 in 22.0 overs (Azhar Ali 10, Fawad Alam 5)\n",
    "Lunch: Pakistan - 41/4 in 22.0 overs (Azhar Ali 10, Fawad Alam 5)\n",
    "Pakistan: 50 runs in 24.2 overs (147 balls), Extras 6\n",
    "Over 27.6: Review by England (Bowling), Umpire - RK Illingworth, Batsman - Azhar Ali (Struck down)\n",
    "Drinks: Pakistan - 75/4 in 35.0 overs (Azhar Ali 25, Fawad Alam 21)\n",
    "Pakistan: 100 runs in 45.4 overs (275 balls), Extras 10\n",
    "Drinks: Pakistan - 105/5 in 48.0 overs (Azhar Ali 44, Mohammad Rizwan 9)\n",
    "Azhar Ali: 50 off 137 balls (7 x 4)\n",
    "6th Wicket: 50 runs in 95 balls (Azhar Ali 35, Mohammad Rizwan 13, Ex 3)\n",
    "Pakistan: 150 runs in 57.5 overs (349 balls), Extras 12\n",
    "Tea: Pakistan - 158/5 in 60.0 overs (Azhar Ali 82, Mohammad Rizwan 22)\n",
    "6th Wicket: 100 runs in 167 balls (Azhar Ali 63, Mohammad Rizwan 33, Ex 5)\n",
    "Pakistan: 200 runs in 70.2 overs (424 balls), Extras 13\n",
    "Mohammad Rizwan: 50 off 103 balls (5 x 4, 1 x 6)\n",
    "Azhar Ali: 100 off 205 balls (15 x 4)\n",
    "Drinks: Pakistan - 210/5 in 74.0 overs (Azhar Ali 104, Mohammad Rizwan 51)\n",
    "New ball taken at 80.1 overs\n",
    "Pakistan: 250 runs in 86.3 overs (521 balls), Extras 13\n",
    "Innings Break: Pakistan - 273/10 in 93.0 overs (Azhar Ali 141)\n",
    "Pakistan 2nd innings\n",
    "End Of Day: Pakistan - 0/0 i\n",
    "Day 4\n",
    "Drinks: Pakistan - 34/0 in 14.0 overs (Shan Masood 10, Abid Ali 18)\n",
    "Bad Light: Pakistan - 41/0 in 18.0 overs (Shan Masood 13, Abid Ali 22)\n",
    "Rain: Pakistan - 41/0 in 18.0 overs (Shan Masood 13, Abid Ali 22)\n",
    "Lunch: Pakistan - 41/0 in 18.0 overs (Shan Masood 13, Abid Ali 22)\n",
    "Rain: Pakistan - 41/0 in 18.0 overs (Shan Masood 13, Abid Ali 22)\n",
    "Wet Ground: Pakistan - 41/0 in 18.0 overs (Shan Masood 13, Abid Ali 22)\n",
    "Over 23.4: Review by Pakistan (Batting), Umpire - MA Gough, Batsman - Shan Masood (Struck down - Umpires Call)\n",
    "Pakistan: 50 runs in 24.6 overs (150 balls), Extras 7\n",
    "Drinks: Pakistan - 58/1 in 32.0 overs (Abid Ali 31, Azhar Ali 2)\n",
    "Drinks: Pakistan - 84/1 in 46.0 overs (Abid Ali 42, Azhar Ali 17)\n",
    "Drinks: Pakistan - 84/1 in 46.0 overs (Abid Ali 42, Azhar Ali 17)\n",
    "Over 49.5: Review by Pakistan (Batting), Umpire - MA Gough, Batsman - Abid Ali (Struck down - Umpires Call)\n",
    "Pakistan: 100 runs in 55.6 overs (336 balls), Extras 7\n",
    "Bad Light: Pakistan - 100/2 in 56.0 overs (Azhar Ali 29, Babar Azam 4)\n",
    "End Of Day: Pakistan - 100/2 in 56.0 overs (Azhar Ali 29, Babar Azam 4)\n",
    "Day 5\n",
    "Rain: Pakistan - 100/2 in 56.0 overs (Azhar Ali 29, Babar Azam 4)\n",
    "Lunch: Pakistan - 100/2 in 56.0 overs (Azhar Ali 29, Babar Azam 4)\n",
    "Wet Ground: Pakistan - 100/2 in 56.0 overs (Azhar Ali 29, Babar Azam 4)\n",
    "Tea: Pakistan - 100/2 in 56.0 overs (Azhar Ali 29, Babar Azam 4)\n",
    "Wet Ground: Pakistan - 100/2 in 56.0 overs (Azhar Ali 29, Babar Azam 4)\n",
    "Drinks: Pakistan - 136/3 in 70.0 overs (Babar Azam 27, Asad Shafiq 11)\n",
    "Pakistan: 150 runs in 75.3 overs (453 balls), Extras 7\n",
    "4th Wicket: 50 runs in 94 balls (Babar Azam 37, Asad Shafiq 15, Ex 0)\n",
    "Babar Azam: 50 off 76 balls (6 x 4)\n",
    "Babar Azam: 50 off 80 balls (6 x 4)\n",
    "Drinks: Pakistan - 187/4 in 83.0 overs (Babar Azam 63, Fawad Alam 0)\n",
    "\"\"\""
   ]
  },
  {
   "cell_type": "code",
   "execution_count": 130,
   "id": "4e133a6e",
   "metadata": {},
   "outputs": [],
   "source": [
    "url = url.strip().split('\\n')\n",
    "url1 = [item for item in url if any(keyword in item for keyword in ['Lunch', 'Tea', 'End Of Day'])]\n",
    "url2 = [item for item in url if any(keyword in item for keyword in ['Innings Break','end of match'])]"
   ]
  },
  {
   "cell_type": "code",
   "execution_count": 131,
   "id": "7cdf4bcd",
   "metadata": {},
   "outputs": [
    {
     "data": {
      "text/plain": [
       "['Lunch: England - 91/2 in 28.0 overs (Z Crawley 53, JE Root 10)',\n",
       " 'Tea: England - 184/4 in 56.0 overs (Z Crawley 97, JC Buttler 24)',\n",
       " 'End Of Day: England - 332/4 in 90.0 overs (Z Crawley 171, JC Buttler 87)',\n",
       " 'Lunch: England - 373/4 in 108.0 overs (Z Crawley 186, JC Buttler 113)',\n",
       " 'Tea: England - 490/5 in 136.0 overs (JC Buttler 140, CR Woakes 2)',\n",
       " 'End Of Day: Pakistan - 24/3 in 10.5 overs (Azhar Ali 4)',\n",
       " 'Lunch: Pakistan - 41/4 in 22.0 overs (Azhar Ali 10, Fawad Alam 5)',\n",
       " 'Tea: Pakistan - 158/5 in 60.0 overs (Azhar Ali 82, Mohammad Rizwan 22)',\n",
       " 'End Of Day: Pakistan - 0/0',\n",
       " 'Lunch: Pakistan - 41/0 in 18.0 overs (Shan Masood 13, Abid Ali 22)',\n",
       " 'End Of Day: Pakistan - 100/2 in 56.0 overs (Azhar Ali 29, Babar Azam 4)',\n",
       " 'Lunch: Pakistan - 100/2 in 56.0 overs (Azhar Ali 29, Babar Azam 4)',\n",
       " 'Tea: Pakistan - 100/2 in 56.0 overs (Azhar Ali 29, Babar Azam 4)']"
      ]
     },
     "execution_count": 131,
     "metadata": {},
     "output_type": "execute_result"
    }
   ],
   "source": [
    "url1"
   ]
  },
  {
   "cell_type": "code",
   "execution_count": 132,
   "id": "e8df6a2b",
   "metadata": {},
   "outputs": [
    {
     "data": {
      "text/plain": [
       "['Tue, 25 Aug - day 5 - Pakistan - 2nd innings 187/4 in 83.1 overs - end of match',\n",
       " 'Innings Break: England - 583/8 in 154.4 overs (DM Bess 27)',\n",
       " 'Innings Break: Pakistan - 273/10 in 93.0 overs (Azhar Ali 141)']"
      ]
     },
     "execution_count": 132,
     "metadata": {},
     "output_type": "execute_result"
    }
   ],
   "source": [
    "url2"
   ]
  },
  {
   "cell_type": "code",
   "execution_count": 133,
   "id": "d833cf62",
   "metadata": {},
   "outputs": [],
   "source": [
    "end_of_match_index = next((index for index, item in enumerate(url2) if 'end of match' in item), None)\n",
    "\n",
    "if end_of_match_index is not None:\n",
    "    end_of_match_item = url2.pop(end_of_match_index)\n",
    "    url2.append(end_of_match_item)"
   ]
  },
  {
   "cell_type": "code",
   "execution_count": 134,
   "id": "e14d633c",
   "metadata": {},
   "outputs": [],
   "source": [
    "pattern = re.compile(r'(Lunch|Tea|End Of Day|Innings Break):|overs.*$')\n",
    "url1 = [re.sub(pattern, '', item).strip() for item in url1]\n",
    "url2 = [re.sub(pattern, '', item).strip() for item in url2]\n",
    "\n",
    "pattern = re.compile(r'Tue, 25 Aug - day 5 - |- end of match*$')\n",
    "url2 = [re.sub(pattern, '', item).strip() for item in url2]\n",
    "\n",
    "url2 = [s.replace(' 2nd innings', '') for s in url2]"
   ]
  },
  {
   "cell_type": "code",
   "execution_count": 135,
   "id": "c9000704",
   "metadata": {},
   "outputs": [
    {
     "data": {
      "text/plain": [
       "['England - 91/2 in 28.0',\n",
       " 'England - 184/4 in 56.0',\n",
       " 'England - 332/4 in 90.0',\n",
       " 'England - 373/4 in 108.0',\n",
       " 'England - 490/5 in 136.0',\n",
       " 'Pakistan - 24/3 in 10.5',\n",
       " 'Pakistan - 41/4 in 22.0',\n",
       " 'Pakistan - 158/5 in 60.0',\n",
       " 'Pakistan - 0/0',\n",
       " 'Pakistan - 41/0 in 18.0',\n",
       " 'Pakistan - 100/2 in 56.0',\n",
       " 'Pakistan - 100/2 in 56.0',\n",
       " 'Pakistan - 100/2 in 56.0']"
      ]
     },
     "execution_count": 135,
     "metadata": {},
     "output_type": "execute_result"
    }
   ],
   "source": [
    "url1"
   ]
  },
  {
   "cell_type": "code",
   "execution_count": 136,
   "id": "06536d08",
   "metadata": {},
   "outputs": [
    {
     "data": {
      "text/plain": [
       "['England - 583/8 in 154.4',\n",
       " 'Pakistan - 273/10 in 93.0',\n",
       " 'Pakistan - 187/4 in 83.1']"
      ]
     },
     "execution_count": 136,
     "metadata": {},
     "output_type": "execute_result"
    }
   ],
   "source": [
    "url2"
   ]
  },
  {
   "cell_type": "code",
   "execution_count": 137,
   "id": "5ea89a17",
   "metadata": {},
   "outputs": [],
   "source": [
    "#result = [entry.split(' - ') for entry in result]"
   ]
  },
  {
   "cell_type": "code",
   "execution_count": 138,
   "id": "11a7bd65",
   "metadata": {},
   "outputs": [],
   "source": [
    "#for i in range(len(result)-1):\n",
    "#    print(result[i])"
   ]
  },
  {
   "cell_type": "code",
   "execution_count": 139,
   "id": "cd20c5c7",
   "metadata": {},
   "outputs": [
    {
     "ename": "IndexError",
     "evalue": "list index out of range",
     "output_type": "error",
     "traceback": [
      "\u001b[1;31m---------------------------------------------------------------------------\u001b[0m",
      "\u001b[1;31mIndexError\u001b[0m                                Traceback (most recent call last)",
      "Cell \u001b[1;32mIn[139], line 7\u001b[0m\n\u001b[0;32m      5\u001b[0m stat \u001b[38;5;241m=\u001b[39m components[\u001b[38;5;241m1\u001b[39m]\u001b[38;5;241m.\u001b[39msplit(\u001b[38;5;124m'\u001b[39m\u001b[38;5;124m in \u001b[39m\u001b[38;5;124m'\u001b[39m)\n\u001b[0;32m      6\u001b[0m \u001b[38;5;66;03m#print(stat[0].split('/')[0])\u001b[39;00m\n\u001b[1;32m----> 7\u001b[0m overs \u001b[38;5;241m=\u001b[39m \u001b[43mstat\u001b[49m\u001b[43m[\u001b[49m\u001b[38;5;241;43m1\u001b[39;49m\u001b[43m]\u001b[49m\n\u001b[0;32m      8\u001b[0m runs \u001b[38;5;241m=\u001b[39m stat[\u001b[38;5;241m0\u001b[39m]\u001b[38;5;241m.\u001b[39msplit(\u001b[38;5;124m'\u001b[39m\u001b[38;5;124m/\u001b[39m\u001b[38;5;124m'\u001b[39m)[\u001b[38;5;241m0\u001b[39m]\n\u001b[0;32m      9\u001b[0m wickets \u001b[38;5;241m=\u001b[39m stat[\u001b[38;5;241m0\u001b[39m]\u001b[38;5;241m.\u001b[39msplit(\u001b[38;5;124m'\u001b[39m\u001b[38;5;124m/\u001b[39m\u001b[38;5;124m'\u001b[39m)[\u001b[38;5;241m1\u001b[39m]\n",
      "\u001b[1;31mIndexError\u001b[0m: list index out of range"
     ]
    }
   ],
   "source": [
    "match1 = []\n",
    "for entry in url1:\n",
    "    components = entry.split(' - ')\n",
    "    team = components[0]\n",
    "    stat = components[1].split(' in ')\n",
    "    #print(stat[0].split('/')[0])\n",
    "    overs = stat[1]\n",
    "    runs = stat[0].split('/')[0]\n",
    "    wickets = stat[0].split('/')[1]\n",
    "    info = [team,runs,overs,wickets]\n",
    "    match1.append(info)"
   ]
  },
  {
   "cell_type": "code",
   "execution_count": null,
   "id": "2aac52b7",
   "metadata": {},
   "outputs": [],
   "source": [
    "match2 = []\n",
    "for entry in url2:\n",
    "    components = entry.split(' - ')\n",
    "    print\n",
    "    team = components[0]\n",
    "    stat = components[1].split(' in ')\n",
    "    print(stat)\n",
    "    overs = stat[1]\n",
    "    runs = stat[0].split('/')[0]\n",
    "    wickets = stat[0].split('/')[1]\n",
    "    info = [team,runs,overs,wickets]\n",
    "    match2.append([info])"
   ]
  },
  {
   "cell_type": "code",
   "execution_count": null,
   "id": "6eac8ad5",
   "metadata": {},
   "outputs": [],
   "source": [
    "match1"
   ]
  },
  {
   "cell_type": "code",
   "execution_count": null,
   "id": "ae25416d",
   "metadata": {
    "scrolled": false
   },
   "outputs": [],
   "source": [
    "match2"
   ]
  },
  {
   "cell_type": "code",
   "execution_count": null,
   "id": "1cd8d734",
   "metadata": {},
   "outputs": [],
   "source": [
    "output = pd.DataFrame(columns=[\"Session\",\"Runs\",\"Overs\",\"Innings\"])"
   ]
  },
  {
   "cell_type": "code",
   "execution_count": null,
   "id": "8ca2029d",
   "metadata": {},
   "outputs": [],
   "source": [
    "session = 1\n",
    "innings = 0\n",
    "bat_inni = 1\n",
    "data = pd.DataFrame(data = [[session,match1[0][1]+'/'+match1[0][3],match1[0][2],bat_inni]],columns=[\"Session\",\"Runs\",\"Overs\",\"Innings\"])\n",
    "output = pd.concat([output, data])\n",
    "for i in range(len(match1)-1):    \n",
    "    if match1[i][0] == match1[i+1][0]:\n",
    "        session += 1\n",
    "        runs = str(int(match1[i+1][1]) - int(match1[i][1]))\n",
    "        wickets = str(int(match1[i+1][3]) - int(match1[i][3]))\n",
    "        balls = (int(match1[i+1][2].split('.')[0])*6+ int(match1[i+1][2].split('.')[1])) - (int(match1[i][2].split('.')[0])*6+ int(match1[i][2].split('.')[1]))\n",
    "        overs =  (balls // 6) + ((balls % 6) / 10)\n",
    "        data = pd.DataFrame(data = [[session,runs+'/'+wickets,overs,bat_inni]],columns=[\"Session\",\"Runs\",\"Overs\",\"Innings\"])\n",
    "        output = pd.concat([output, data])\n",
    "        \n",
    "    elif match1[i][0] != match1[i+1][0]:\n",
    "        session+=1\n",
    "        team1_runs = str(int(match2[innings][0][1]) - int(match1[i][1]))\n",
    "        team2_runs = str(int(match1[i+1][1])) \n",
    "        \n",
    "        team1_wickets = str(int(match2[innings][0][3]) - int(match1[i][3]))\n",
    "        team2_wickets = str(int(match1[i+1][3]))\n",
    "        \n",
    "        team1_balls = (int(match2[innings][0][2].split('.')[0])*6) - (int(match1[i][2].split('.')[0])*6)\n",
    "        team1_overs = (team1_balls // 6) + ((team1_balls % 6) / 10)\n",
    "        team2_balls = match1[i+1][2]\n",
    "        \n",
    "        \n",
    "        innings +=1\n",
    "        data = pd.DataFrame(data = [[session,team1_runs+'/'+team1_wickets,team1_overs,bat_inni]],columns=[\"Session\",\"Runs\",\"Overs\",\"Innings\"])\n",
    "        output = pd.concat([output, data])\n",
    "        bat_inni +=1\n",
    "        data = pd.DataFrame(data = [[session,team2_runs+'/'+team2_wickets,team2_balls,bat_inni]],columns=[\"Session\",\"Runs\",\"Overs\",\"Innings\"])\n",
    "        output = pd.concat([output, data])        \n",
    "runs = str(int(match2[-1][0][1]) - int(match1[-1][1]))\n",
    "balls = (int(match2[-1][0][2].split('.')[0])*6+ int(match2[-1][0][2].split('.')[1])) - (int(match1[-1][2].split('.')[0])*6+ int(match1[-1][2].split('.')[1]))\n",
    "overs =  (balls // 6) + ((balls % 6) / 10)\n",
    "wickets = str(int(match2[-1][0][3]) - int(match1[-1][3]))\n",
    "data = pd.DataFrame(data = [[session+1,runs+'/'+wickets,overs,bat_inni]],columns=[\"Session\",\"Runs\",\"Overs\",\"Innings\"])\n",
    "output = pd.concat([output, data])"
   ]
  },
  {
   "cell_type": "code",
   "execution_count": null,
   "id": "7d41e66f",
   "metadata": {},
   "outputs": [],
   "source": [
    "output"
   ]
  }
 ],
 "metadata": {
  "kernelspec": {
   "display_name": "Python 3 (ipykernel)",
   "language": "python",
   "name": "python3"
  },
  "language_info": {
   "codemirror_mode": {
    "name": "ipython",
    "version": 3
   },
   "file_extension": ".py",
   "mimetype": "text/x-python",
   "name": "python",
   "nbconvert_exporter": "python",
   "pygments_lexer": "ipython3",
   "version": "3.9.18"
  }
 },
 "nbformat": 4,
 "nbformat_minor": 5
}
