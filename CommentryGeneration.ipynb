{
 "cells": [
  {
   "cell_type": "markdown",
   "id": "ba2d0cbc",
   "metadata": {},
   "source": [
    "# Commentry Generation"
   ]
  },
  {
   "cell_type": "code",
   "execution_count": 113,
   "id": "9e70cd51",
   "metadata": {},
   "outputs": [],
   "source": [
    "import numpy as np\n",
    "import pandas as pd\n",
    "import tensorflow as tf\n",
    "import random"
   ]
  },
  {
   "cell_type": "code",
   "execution_count": 114,
   "id": "f95c9baa",
   "metadata": {},
   "outputs": [],
   "source": [
    "#!pip install openai\n",
    "#!python -m pip install cohere"
   ]
  },
  {
   "cell_type": "code",
   "execution_count": 115,
   "id": "689f9cde",
   "metadata": {},
   "outputs": [],
   "source": [
    "import cohere\n",
    "\n",
    "co = cohere.Client('JY6As4HcMbxbXz6QJegvMAfNWflhvT0CoNxeN8pZ')"
   ]
  },
  {
   "cell_type": "code",
   "execution_count": 116,
   "id": "2c4c539d",
   "metadata": {},
   "outputs": [],
   "source": [
    "df = pd.read_csv(r\"deliveries.csv\")"
   ]
  },
  {
   "cell_type": "code",
   "execution_count": 117,
   "id": "124374c5",
   "metadata": {},
   "outputs": [],
   "source": [
    "df1 = df[df['match_id'].between(1, 20)]"
   ]
  },
  {
   "cell_type": "code",
   "execution_count": 118,
   "id": "baec9ee5",
   "metadata": {},
   "outputs": [],
   "source": [
    "selected_columns = ['batsman', 'bowler', 'total_runs']\n",
    "df2 = df[selected_columns]"
   ]
  },
  {
   "cell_type": "code",
   "execution_count": 129,
   "id": "796a79c5",
   "metadata": {},
   "outputs": [
    {
     "name": "stdout",
     "output_type": "stream",
     "text": [
      "DA Warner A Choudhary 6\n"
     ]
    }
   ],
   "source": [
    "commentaries = []\n",
    "i = random.randint(0,20) \n",
    "print(df2.batsman[i],df2.bowler[i],df2.total_runs[i])\n",
    "response = co.generate(\n",
    "    prompt=f\"Generate a commentary of the following cricket ball in Ravi Shastri style make sure runs scored are the important parameter: Batsman: {df2.batsman[i]}, Bowler: {df2.bowler[i]}, runs scored: 6. Make sure it is around 30 words length\",\n",
    ")\n",
    "commentaries.append(response[0].text)"
   ]
  },
  {
   "cell_type": "code",
   "execution_count": 130,
   "id": "4d304b71",
   "metadata": {},
   "outputs": [
    {
     "name": "stdout",
     "output_type": "stream",
     "text": [
      " Absolutely stunning batting from David Warner! He picks up six runs off the over from A Choudhary, taking his total to an impressive 66. His confidence is sky-high and he's looking unstoppable tonight. Let's see if the bowlers can contain him or if he can keep on smashing records. Cheers to Warner's superb batting!\n",
      "\n",
      "\n"
     ]
    }
   ],
   "source": [
    "for i in range(len(commentaries)):\n",
    "    print(commentaries[0])\n",
    "    print(\"\\n\")"
   ]
  }
 ],
 "metadata": {
  "kernelspec": {
   "display_name": "Python 3 (ipykernel)",
   "language": "python",
   "name": "python3"
  },
  "language_info": {
   "codemirror_mode": {
    "name": "ipython",
    "version": 3
   },
   "file_extension": ".py",
   "mimetype": "text/x-python",
   "name": "python",
   "nbconvert_exporter": "python",
   "pygments_lexer": "ipython3",
   "version": "3.9.18"
  }
 },
 "nbformat": 4,
 "nbformat_minor": 5
}
