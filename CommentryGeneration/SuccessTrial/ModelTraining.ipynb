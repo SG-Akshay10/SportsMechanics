{
 "cells": [
  {
   "cell_type": "code",
   "execution_count": 12,
   "id": "3f8052c1",
   "metadata": {},
   "outputs": [
    {
     "name": "stdout",
     "output_type": "stream",
     "text": [
      "Requirement already satisfied: simpletransformers in d:\\anaconda\\envs\\ten_gpu\\lib\\site-packages (0.64.3)\n",
      "Requirement already satisfied: numpy in d:\\anaconda\\envs\\ten_gpu\\lib\\site-packages (from simpletransformers) (1.26.0)\n",
      "Requirement already satisfied: requests in d:\\anaconda\\envs\\ten_gpu\\lib\\site-packages (from simpletransformers) (2.31.0)\n",
      "Requirement already satisfied: tqdm>=4.47.0 in d:\\anaconda\\envs\\ten_gpu\\lib\\site-packages (from simpletransformers) (4.66.1)\n",
      "Requirement already satisfied: regex in d:\\anaconda\\envs\\ten_gpu\\lib\\site-packages (from simpletransformers) (2023.10.3)\n",
      "Requirement already satisfied: transformers>=4.31.0 in d:\\anaconda\\envs\\ten_gpu\\lib\\site-packages (from simpletransformers) (4.36.0.dev0)\n",
      "Requirement already satisfied: datasets in d:\\anaconda\\envs\\ten_gpu\\lib\\site-packages (from simpletransformers) (2.15.0)\n",
      "Requirement already satisfied: scipy in d:\\anaconda\\envs\\ten_gpu\\lib\\site-packages (from simpletransformers) (1.11.3)\n",
      "Requirement already satisfied: scikit-learn in d:\\anaconda\\envs\\ten_gpu\\lib\\site-packages (from simpletransformers) (1.3.0)\n",
      "Requirement already satisfied: seqeval in d:\\anaconda\\envs\\ten_gpu\\lib\\site-packages (from simpletransformers) (1.2.2)\n",
      "Requirement already satisfied: tensorboard in d:\\anaconda\\envs\\ten_gpu\\lib\\site-packages (from simpletransformers) (2.15.1)\n",
      "Requirement already satisfied: pandas in d:\\anaconda\\envs\\ten_gpu\\lib\\site-packages (from simpletransformers) (2.0.3)\n",
      "Requirement already satisfied: tokenizers in d:\\anaconda\\envs\\ten_gpu\\lib\\site-packages (from simpletransformers) (0.15.0)\n",
      "Requirement already satisfied: wandb>=0.10.32 in d:\\anaconda\\envs\\ten_gpu\\lib\\site-packages (from simpletransformers) (0.16.1)\n",
      "Requirement already satisfied: streamlit in d:\\anaconda\\envs\\ten_gpu\\lib\\site-packages (from simpletransformers) (1.29.0)\n",
      "Requirement already satisfied: sentencepiece in d:\\anaconda\\envs\\ten_gpu\\lib\\site-packages (from simpletransformers) (0.1.99)\n",
      "Requirement already satisfied: colorama in d:\\anaconda\\envs\\ten_gpu\\lib\\site-packages (from tqdm>=4.47.0->simpletransformers) (0.4.6)\n",
      "Requirement already satisfied: filelock in d:\\anaconda\\envs\\ten_gpu\\lib\\site-packages (from transformers>=4.31.0->simpletransformers) (3.12.4)\n",
      "Requirement already satisfied: huggingface-hub<1.0,>=0.19.3 in d:\\anaconda\\envs\\ten_gpu\\lib\\site-packages (from transformers>=4.31.0->simpletransformers) (0.19.4)\n",
      "Requirement already satisfied: packaging>=20.0 in d:\\anaconda\\envs\\ten_gpu\\lib\\site-packages (from transformers>=4.31.0->simpletransformers) (23.1)\n",
      "Requirement already satisfied: pyyaml>=5.1 in d:\\anaconda\\envs\\ten_gpu\\lib\\site-packages (from transformers>=4.31.0->simpletransformers) (5.4.1)\n",
      "Requirement already satisfied: safetensors>=0.3.1 in d:\\anaconda\\envs\\ten_gpu\\lib\\site-packages (from transformers>=4.31.0->simpletransformers) (0.4.0)\n",
      "Requirement already satisfied: Click!=8.0.0,>=7.1 in d:\\anaconda\\envs\\ten_gpu\\lib\\site-packages (from wandb>=0.10.32->simpletransformers) (8.1.7)\n",
      "Requirement already satisfied: GitPython!=3.1.29,>=1.0.0 in d:\\anaconda\\envs\\ten_gpu\\lib\\site-packages (from wandb>=0.10.32->simpletransformers) (3.1.40)\n",
      "Requirement already satisfied: psutil>=5.0.0 in d:\\anaconda\\envs\\ten_gpu\\lib\\site-packages (from wandb>=0.10.32->simpletransformers) (5.9.0)\n",
      "Requirement already satisfied: sentry-sdk>=1.0.0 in d:\\anaconda\\envs\\ten_gpu\\lib\\site-packages (from wandb>=0.10.32->simpletransformers) (1.38.0)\n",
      "Requirement already satisfied: docker-pycreds>=0.4.0 in d:\\anaconda\\envs\\ten_gpu\\lib\\site-packages (from wandb>=0.10.32->simpletransformers) (0.4.0)\n",
      "Requirement already satisfied: setproctitle in d:\\anaconda\\envs\\ten_gpu\\lib\\site-packages (from wandb>=0.10.32->simpletransformers) (1.3.3)\n",
      "Requirement already satisfied: setuptools in d:\\anaconda\\envs\\ten_gpu\\lib\\site-packages (from wandb>=0.10.32->simpletransformers) (68.0.0)\n",
      "Requirement already satisfied: appdirs>=1.4.3 in d:\\anaconda\\envs\\ten_gpu\\lib\\site-packages (from wandb>=0.10.32->simpletransformers) (1.4.4)\n",
      "Requirement already satisfied: typing-extensions in d:\\anaconda\\envs\\ten_gpu\\lib\\site-packages (from wandb>=0.10.32->simpletransformers) (4.8.0)\n",
      "Requirement already satisfied: protobuf!=4.21.0,<5,>=3.19.0 in d:\\anaconda\\envs\\ten_gpu\\lib\\site-packages (from wandb>=0.10.32->simpletransformers) (4.23.4)\n",
      "Requirement already satisfied: charset-normalizer<4,>=2 in d:\\anaconda\\envs\\ten_gpu\\lib\\site-packages (from requests->simpletransformers) (3.3.0)\n",
      "Requirement already satisfied: idna<4,>=2.5 in d:\\anaconda\\envs\\ten_gpu\\lib\\site-packages (from requests->simpletransformers) (3.4)\n",
      "Requirement already satisfied: urllib3<3,>=1.21.1 in d:\\anaconda\\envs\\ten_gpu\\lib\\site-packages (from requests->simpletransformers) (2.0.6)\n",
      "Requirement already satisfied: certifi>=2017.4.17 in d:\\anaconda\\envs\\ten_gpu\\lib\\site-packages (from requests->simpletransformers) (2023.7.22)\n",
      "Requirement already satisfied: pyarrow>=8.0.0 in d:\\anaconda\\envs\\ten_gpu\\lib\\site-packages (from datasets->simpletransformers) (14.0.1)\n",
      "Requirement already satisfied: pyarrow-hotfix in d:\\anaconda\\envs\\ten_gpu\\lib\\site-packages (from datasets->simpletransformers) (0.6)\n",
      "Requirement already satisfied: dill<0.3.8,>=0.3.0 in d:\\anaconda\\envs\\ten_gpu\\lib\\site-packages (from datasets->simpletransformers) (0.3.7)\n",
      "Requirement already satisfied: xxhash in d:\\anaconda\\envs\\ten_gpu\\lib\\site-packages (from datasets->simpletransformers) (3.4.1)\n",
      "Requirement already satisfied: multiprocess in d:\\anaconda\\envs\\ten_gpu\\lib\\site-packages (from datasets->simpletransformers) (0.70.15)\n",
      "Requirement already satisfied: fsspec[http]<=2023.10.0,>=2023.1.0 in d:\\anaconda\\envs\\ten_gpu\\lib\\site-packages (from datasets->simpletransformers) (2023.9.2)\n",
      "Requirement already satisfied: aiohttp in d:\\anaconda\\envs\\ten_gpu\\lib\\site-packages (from datasets->simpletransformers) (3.8.6)\n",
      "Requirement already satisfied: python-dateutil>=2.8.2 in d:\\anaconda\\envs\\ten_gpu\\lib\\site-packages (from pandas->simpletransformers) (2.8.2)\n",
      "Requirement already satisfied: pytz>=2020.1 in d:\\anaconda\\envs\\ten_gpu\\lib\\site-packages (from pandas->simpletransformers) (2023.3.post1)\n",
      "Requirement already satisfied: tzdata>=2022.1 in d:\\anaconda\\envs\\ten_gpu\\lib\\site-packages (from pandas->simpletransformers) (2023.3)\n",
      "Requirement already satisfied: joblib>=1.1.1 in d:\\anaconda\\envs\\ten_gpu\\lib\\site-packages (from scikit-learn->simpletransformers) (1.2.0)\n",
      "Requirement already satisfied: threadpoolctl>=2.0.0 in d:\\anaconda\\envs\\ten_gpu\\lib\\site-packages (from scikit-learn->simpletransformers) (2.2.0)\n",
      "Requirement already satisfied: altair<6,>=4.0 in d:\\anaconda\\envs\\ten_gpu\\lib\\site-packages (from streamlit->simpletransformers) (5.2.0)\n",
      "Requirement already satisfied: blinker<2,>=1.0.0 in d:\\anaconda\\envs\\ten_gpu\\lib\\site-packages (from streamlit->simpletransformers) (1.7.0)\n",
      "Requirement already satisfied: cachetools<6,>=4.0 in d:\\anaconda\\envs\\ten_gpu\\lib\\site-packages (from streamlit->simpletransformers) (5.3.1)\n",
      "Requirement already satisfied: importlib-metadata<7,>=1.4 in d:\\anaconda\\envs\\ten_gpu\\lib\\site-packages (from streamlit->simpletransformers) (6.8.0)\n",
      "Requirement already satisfied: pillow<11,>=7.1.0 in d:\\anaconda\\envs\\ten_gpu\\lib\\site-packages (from streamlit->simpletransformers) (10.0.1)\n",
      "Requirement already satisfied: rich<14,>=10.14.0 in d:\\anaconda\\envs\\ten_gpu\\lib\\site-packages (from streamlit->simpletransformers) (13.7.0)\n",
      "Requirement already satisfied: tenacity<9,>=8.1.0 in d:\\anaconda\\envs\\ten_gpu\\lib\\site-packages (from streamlit->simpletransformers) (8.2.3)\n",
      "Requirement already satisfied: toml<2,>=0.10.1 in d:\\anaconda\\envs\\ten_gpu\\lib\\site-packages (from streamlit->simpletransformers) (0.10.2)\n",
      "Requirement already satisfied: tzlocal<6,>=1.1 in d:\\anaconda\\envs\\ten_gpu\\lib\\site-packages (from streamlit->simpletransformers) (5.2)\n",
      "Requirement already satisfied: validators<1,>=0.2 in d:\\anaconda\\envs\\ten_gpu\\lib\\site-packages (from streamlit->simpletransformers) (0.22.0)\n",
      "Requirement already satisfied: pydeck<1,>=0.8.0b4 in d:\\anaconda\\envs\\ten_gpu\\lib\\site-packages (from streamlit->simpletransformers) (0.8.1b0)\n",
      "Requirement already satisfied: tornado<7,>=6.0.3 in d:\\anaconda\\envs\\ten_gpu\\lib\\site-packages (from streamlit->simpletransformers) (6.3.3)\n",
      "Requirement already satisfied: watchdog>=2.1.5 in d:\\anaconda\\envs\\ten_gpu\\lib\\site-packages (from streamlit->simpletransformers) (3.0.0)\n",
      "Requirement already satisfied: absl-py>=0.4 in d:\\anaconda\\envs\\ten_gpu\\lib\\site-packages (from tensorboard->simpletransformers) (1.4.0)\n",
      "Requirement already satisfied: grpcio>=1.48.2 in d:\\anaconda\\envs\\ten_gpu\\lib\\site-packages (from tensorboard->simpletransformers) (1.59.0)\n",
      "Requirement already satisfied: google-auth<3,>=1.6.3 in d:\\anaconda\\envs\\ten_gpu\\lib\\site-packages (from tensorboard->simpletransformers) (2.23.3)\n",
      "Requirement already satisfied: google-auth-oauthlib<2,>=0.5 in d:\\anaconda\\envs\\ten_gpu\\lib\\site-packages (from tensorboard->simpletransformers) (1.1.0)\n",
      "Requirement already satisfied: markdown>=2.6.8 in d:\\anaconda\\envs\\ten_gpu\\lib\\site-packages (from tensorboard->simpletransformers) (3.5)\n",
      "Requirement already satisfied: six>1.9 in d:\\anaconda\\envs\\ten_gpu\\lib\\site-packages (from tensorboard->simpletransformers) (1.16.0)\n",
      "Requirement already satisfied: tensorboard-data-server<0.8.0,>=0.7.0 in d:\\anaconda\\envs\\ten_gpu\\lib\\site-packages (from tensorboard->simpletransformers) (0.7.2)\n",
      "Requirement already satisfied: werkzeug>=1.0.1 in d:\\anaconda\\envs\\ten_gpu\\lib\\site-packages (from tensorboard->simpletransformers) (3.0.0)\n",
      "Requirement already satisfied: jinja2 in d:\\anaconda\\envs\\ten_gpu\\lib\\site-packages (from altair<6,>=4.0->streamlit->simpletransformers) (3.1.2)\n",
      "Requirement already satisfied: jsonschema>=3.0 in d:\\anaconda\\envs\\ten_gpu\\lib\\site-packages (from altair<6,>=4.0->streamlit->simpletransformers) (4.17.3)\n",
      "Requirement already satisfied: toolz in d:\\anaconda\\envs\\ten_gpu\\lib\\site-packages (from altair<6,>=4.0->streamlit->simpletransformers) (0.12.0)\n",
      "Requirement already satisfied: attrs>=17.3.0 in d:\\anaconda\\envs\\ten_gpu\\lib\\site-packages (from aiohttp->datasets->simpletransformers) (23.1.0)\n",
      "Requirement already satisfied: multidict<7.0,>=4.5 in d:\\anaconda\\envs\\ten_gpu\\lib\\site-packages (from aiohttp->datasets->simpletransformers) (6.0.4)\n",
      "Requirement already satisfied: async-timeout<5.0,>=4.0.0a3 in d:\\anaconda\\envs\\ten_gpu\\lib\\site-packages (from aiohttp->datasets->simpletransformers) (4.0.3)\n",
      "Requirement already satisfied: yarl<2.0,>=1.0 in d:\\anaconda\\envs\\ten_gpu\\lib\\site-packages (from aiohttp->datasets->simpletransformers) (1.9.2)\n",
      "Requirement already satisfied: frozenlist>=1.1.1 in d:\\anaconda\\envs\\ten_gpu\\lib\\site-packages (from aiohttp->datasets->simpletransformers) (1.4.0)\n",
      "Requirement already satisfied: aiosignal>=1.1.2 in d:\\anaconda\\envs\\ten_gpu\\lib\\site-packages (from aiohttp->datasets->simpletransformers) (1.3.1)\n",
      "Requirement already satisfied: gitdb<5,>=4.0.1 in d:\\anaconda\\envs\\ten_gpu\\lib\\site-packages (from GitPython!=3.1.29,>=1.0.0->wandb>=0.10.32->simpletransformers) (4.0.11)\n",
      "Requirement already satisfied: pyasn1-modules>=0.2.1 in d:\\anaconda\\envs\\ten_gpu\\lib\\site-packages (from google-auth<3,>=1.6.3->tensorboard->simpletransformers) (0.3.0)\n",
      "Requirement already satisfied: rsa<5,>=3.1.4 in d:\\anaconda\\envs\\ten_gpu\\lib\\site-packages (from google-auth<3,>=1.6.3->tensorboard->simpletransformers) (4.9)\n",
      "Requirement already satisfied: requests-oauthlib>=0.7.0 in d:\\anaconda\\envs\\ten_gpu\\lib\\site-packages (from google-auth-oauthlib<2,>=0.5->tensorboard->simpletransformers) (1.3.1)\n",
      "Requirement already satisfied: zipp>=0.5 in d:\\anaconda\\envs\\ten_gpu\\lib\\site-packages (from importlib-metadata<7,>=1.4->streamlit->simpletransformers) (3.11.0)\n",
      "Requirement already satisfied: markdown-it-py>=2.2.0 in d:\\anaconda\\envs\\ten_gpu\\lib\\site-packages (from rich<14,>=10.14.0->streamlit->simpletransformers) (3.0.0)\n",
      "Requirement already satisfied: pygments<3.0.0,>=2.13.0 in d:\\anaconda\\envs\\ten_gpu\\lib\\site-packages (from rich<14,>=10.14.0->streamlit->simpletransformers) (2.15.1)\n",
      "Requirement already satisfied: MarkupSafe>=2.1.1 in d:\\anaconda\\envs\\ten_gpu\\lib\\site-packages (from werkzeug>=1.0.1->tensorboard->simpletransformers) (2.1.1)\n",
      "Requirement already satisfied: smmap<6,>=3.0.1 in d:\\anaconda\\envs\\ten_gpu\\lib\\site-packages (from gitdb<5,>=4.0.1->GitPython!=3.1.29,>=1.0.0->wandb>=0.10.32->simpletransformers) (5.0.1)\n",
      "Requirement already satisfied: pyrsistent!=0.17.0,!=0.17.1,!=0.17.2,>=0.14.0 in d:\\anaconda\\envs\\ten_gpu\\lib\\site-packages (from jsonschema>=3.0->altair<6,>=4.0->streamlit->simpletransformers) (0.18.0)\n",
      "Requirement already satisfied: mdurl~=0.1 in d:\\anaconda\\envs\\ten_gpu\\lib\\site-packages (from markdown-it-py>=2.2.0->rich<14,>=10.14.0->streamlit->simpletransformers) (0.1.2)\n",
      "Requirement already satisfied: pyasn1<0.6.0,>=0.4.6 in d:\\anaconda\\envs\\ten_gpu\\lib\\site-packages (from pyasn1-modules>=0.2.1->google-auth<3,>=1.6.3->tensorboard->simpletransformers) (0.5.0)\n",
      "Requirement already satisfied: oauthlib>=3.0.0 in d:\\anaconda\\envs\\ten_gpu\\lib\\site-packages (from requests-oauthlib>=0.7.0->google-auth-oauthlib<2,>=0.5->tensorboard->simpletransformers) (3.2.2)\n"
     ]
    },
    {
     "name": "stderr",
     "output_type": "stream",
     "text": [
      "WARNING: Ignoring invalid distribution - (d:\\anaconda\\envs\\ten_gpu\\lib\\site-packages)\n",
      "WARNING: Ignoring invalid distribution -rotobuf (d:\\anaconda\\envs\\ten_gpu\\lib\\site-packages)\n",
      "WARNING: Ignoring invalid distribution - (d:\\anaconda\\envs\\ten_gpu\\lib\\site-packages)\n",
      "WARNING: Ignoring invalid distribution -rotobuf (d:\\anaconda\\envs\\ten_gpu\\lib\\site-packages)\n"
     ]
    }
   ],
   "source": [
    "!pip install simpletransformers\n",
    "#!pip install --upgrade tensorflow"
   ]
  },
  {
   "cell_type": "code",
   "execution_count": 13,
   "id": "963643b2",
   "metadata": {
    "scrolled": true
   },
   "outputs": [
    {
     "name": "stdout",
     "output_type": "stream",
     "text": [
      "Mon Dec 11 21:14:21 2023       \n",
      "+---------------------------------------------------------------------------------------+\n",
      "| NVIDIA-SMI 537.58                 Driver Version: 537.58       CUDA Version: 12.2     |\n",
      "|-----------------------------------------+----------------------+----------------------+\n",
      "| GPU  Name                     TCC/WDDM  | Bus-Id        Disp.A | Volatile Uncorr. ECC |\n",
      "| Fan  Temp   Perf          Pwr:Usage/Cap |         Memory-Usage | GPU-Util  Compute M. |\n",
      "|                                         |                      |               MIG M. |\n",
      "|=========================================+======================+======================|\n",
      "|   0  NVIDIA GeForce RTX 4060 ...  WDDM  | 00000000:01:00.0 Off |                  N/A |\n",
      "| N/A   42C    P0              14W /  80W |      0MiB /  8188MiB |      0%      Default |\n",
      "|                                         |                      |                  N/A |\n",
      "+-----------------------------------------+----------------------+----------------------+\n",
      "                                                                                         \n",
      "+---------------------------------------------------------------------------------------+\n",
      "| Processes:                                                                            |\n",
      "|  GPU   GI   CI        PID   Type   Process name                            GPU Memory |\n",
      "|        ID   ID                                                             Usage      |\n",
      "|=======================================================================================|\n",
      "|  No running processes found                                                           |\n",
      "+---------------------------------------------------------------------------------------+\n"
     ]
    }
   ],
   "source": [
    "!nvidia-smi"
   ]
  },
  {
   "cell_type": "code",
   "execution_count": 15,
   "id": "d3679aca",
   "metadata": {},
   "outputs": [],
   "source": [
    "#from simpletransformers.language_modeling import LanguageModelingModel,LanguageModelingArgs"
   ]
  }
 ],
 "metadata": {
  "kernelspec": {
   "display_name": "Python 3 (ipykernel)",
   "language": "python",
   "name": "python3"
  },
  "language_info": {
   "codemirror_mode": {
    "name": "ipython",
    "version": 3
   },
   "file_extension": ".py",
   "mimetype": "text/x-python",
   "name": "python",
   "nbconvert_exporter": "python",
   "pygments_lexer": "ipython3",
   "version": "3.9.18"
  }
 },
 "nbformat": 4,
 "nbformat_minor": 5
}
